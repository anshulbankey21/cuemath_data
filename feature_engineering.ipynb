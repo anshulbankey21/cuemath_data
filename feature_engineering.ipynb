{
 "cells": [
  {
   "cell_type": "code",
   "execution_count": 4,
   "id": "8a93a78b-2b7f-42f8-9ad9-a6cfe2e9d0ea",
   "metadata": {},
   "outputs": [],
   "source": [
    "import pandas as pd\n",
    "import numpy as np\n",
    "df = pd.read_csv(\"cuemath_cleaned_data.csv\")"
   ]
  },
  {
   "cell_type": "code",
   "execution_count": 30,
   "id": "d3867789-7824-418b-bceb-8350cb1b87cc",
   "metadata": {},
   "outputs": [],
   "source": [
    "#measures how recently a student logged in?\n",
    "df['Last_Login'] = pd.to_datetime(df['Last_Login'], dayfirst=True, errors='coerce')\n",
    "\n",
    "df['days_since_login'] = (pd.to_datetime('today') - df['Last_Login']).dt.days\n",
    "\n"
   ]
  },
  {
   "cell_type": "code",
   "execution_count": 7,
   "id": "b50b5e8d-5c35-4f8a-8976-163177353f12",
   "metadata": {},
   "outputs": [
    {
     "data": {
      "text/plain": [
       "0         0\n",
       "1         1\n",
       "2         0\n",
       "3         1\n",
       "4         0\n",
       "         ..\n",
       "109995    0\n",
       "109996    0\n",
       "109997    1\n",
       "109998    0\n",
       "109999    0\n",
       "Name: high_performer, Length: 110000, dtype: int32"
      ]
     },
     "execution_count": 7,
     "metadata": {},
     "output_type": "execute_result"
    }
   ],
   "source": [
    "#create a flag if a student is performing well (based on quiz + final score)?\n",
    "df['high_performer'] = ((df['quiz_score'] + df['final_grade']) / 2 > 75).astype(int)\n",
    "df['high_performer'] "
   ]
  },
  {
   "cell_type": "code",
   "execution_count": 15,
   "id": "b4bfc0ec-a8cc-48a6-bd7e-9e54d7a6805f",
   "metadata": {},
   "outputs": [
    {
     "data": {
      "text/plain": [
       "0         1.193766\n",
       "1         0.100000\n",
       "2         0.100000\n",
       "3         0.260365\n",
       "4         3.105000\n",
       "            ...   \n",
       "109995    0.942247\n",
       "109996    1.024247\n",
       "109997    0.008611\n",
       "109998    0.100000\n",
       "109999    0.100000\n",
       "Name: efficiency_score, Length: 110000, dtype: float64"
      ]
     },
     "execution_count": 15,
     "metadata": {},
     "output_type": "execute_result"
    }
   ],
   "source": [
    "#showing progress per time spent?\n",
    "df['efficiency_score'] = df['weekly_progress(%)'] / df['time_spent_minutes']\n",
    "df['efficiency_score']"
   ]
  },
  {
   "cell_type": "code",
   "execution_count": 17,
   "id": "b699434f-dccd-43b0-825a-4b4d77862eb3",
   "metadata": {},
   "outputs": [
    {
     "data": {
      "text/plain": [
       "0         -2.965161\n",
       "1          0.684615\n",
       "2          1.284839\n",
       "3         -0.858696\n",
       "4          0.241948\n",
       "            ...    \n",
       "109995    41.930000\n",
       "109996     0.983816\n",
       "109997     0.006019\n",
       "109998    -0.095833\n",
       "109999     1.145181\n",
       "Name: consistency_score, Length: 110000, dtype: float64"
      ]
     },
     "execution_count": 17,
     "metadata": {},
     "output_type": "execute_result"
    }
   ],
   "source": [
    "#measure student consistency? (weekly progress + login recency)\n",
    "df['consistency_score'] = df['weekly_progress(%)'] / (df['days_since_login'] + 1)\n",
    "df['consistency_score']"
   ]
  },
  {
   "cell_type": "code",
   "execution_count": 19,
   "id": "14bbebd9-9f83-4eb2-9700-dfca93cbb823",
   "metadata": {},
   "outputs": [
    {
     "data": {
      "text/plain": [
       "0          78.768\n",
       "1          57.560\n",
       "2         147.122\n",
       "3          90.413\n",
       "4          30.552\n",
       "           ...   \n",
       "109995     85.144\n",
       "109996     59.308\n",
       "109997     47.948\n",
       "109998      8.120\n",
       "109999    345.370\n",
       "Name: engagement_score, Length: 110000, dtype: float64"
      ]
     },
     "execution_count": 19,
     "metadata": {},
     "output_type": "execute_result"
    }
   ],
   "source": [
    "#calculate engagement level using multiple features?\n",
    "df['engagement_score'] = (\n",
    "    df['time_spent_minutes'] * 0.3 +\n",
    "    df['weekly_progress(%)'] * 0.4 +\n",
    "    df['quiz_score'] * 0.3\n",
    ")\n",
    "df['engagement_score']"
   ]
  },
  {
   "cell_type": "code",
   "execution_count": 20,
   "id": "d766a432-c7d9-4892-b227-7091c5585a31",
   "metadata": {},
   "outputs": [],
   "source": [
    "#calculate quiz-to-final-grade improvement rate?\n",
    "df['improvement_rate'] = df['final_grade'] - df['quiz_score']\n"
   ]
  },
  {
   "cell_type": "code",
   "execution_count": 21,
   "id": "f4872890-22de-4098-afb9-9f42bdcaf12f",
   "metadata": {},
   "outputs": [],
   "source": [
    "#identify students with low feedback but high performance?\n",
    "df['underrated_flag'] = ((df['final_grade'] > 80) & (df['feedback_score'] < 3)).astype(int)\n"
   ]
  },
  {
   "cell_type": "code",
   "execution_count": 28,
   "id": "a1064795-9c70-4277-8e3f-af7fb1b051a7",
   "metadata": {},
   "outputs": [],
   "source": [
    "#measure inactivity duration?\n",
    "df['Enrollment_Date'] = pd.to_datetime(df['Enrollment_Date'], dayfirst=True, errors='coerce')\n",
    "df['Last_Login'] = pd.to_datetime(df['Last_Login'], dayfirst=True, errors='coerce')\n",
    "\n",
    "df['inactive_days'] = (df['Last_Login'] - df['Enrollment_Date']).dt.days\n"
   ]
  },
  {
   "cell_type": "code",
   "execution_count": 26,
   "id": "73607031-0edd-4927-bcfc-a399ccaa0813",
   "metadata": {},
   "outputs": [],
   "source": [
    "#dropout risk indicator (based on last login + progress)?\n",
    "df['dropout_risk'] = ((df['days_since_login'] > 30) & (df['weekly_progress(%)'] < 10)).astype(int)\n"
   ]
  },
  {
   "cell_type": "code",
   "execution_count": 27,
   "id": "6eb14be0-5ca4-4254-806f-4b537dfdc263",
   "metadata": {},
   "outputs": [],
   "source": [
    "# Grade-Level Categorization:\n",
    "def categorize_grade(grade):\n",
    "    if grade in [1, 2, 3]:\n",
    "        return \"Excellent\"\n",
    "    elif grade in [4, 5, 6]:\n",
    "        return \"Very Good\"\n",
    "    elif grade in [7, 8, 9]:\n",
    "        return \"Good\"\n",
    "    elif grade in [10, 11, 12]:\n",
    "        return \"Needs Improvement\"\n",
    "    else:\n",
    "        return \"Unknown\"\n",
    "\n",
    "df[\"grade_category\"] = df[\"grade\"].apply(categorize_grade)\n"
   ]
  },
  {
   "cell_type": "code",
   "execution_count": 31,
   "id": "4af674d8-8e7b-47e9-a45a-28ee1e1cc3e0",
   "metadata": {},
   "outputs": [
    {
     "data": {
      "text/html": [
       "<div>\n",
       "<style scoped>\n",
       "    .dataframe tbody tr th:only-of-type {\n",
       "        vertical-align: middle;\n",
       "    }\n",
       "\n",
       "    .dataframe tbody tr th {\n",
       "        vertical-align: top;\n",
       "    }\n",
       "\n",
       "    .dataframe thead th {\n",
       "        text-align: right;\n",
       "    }\n",
       "</style>\n",
       "<table border=\"1\" class=\"dataframe\">\n",
       "  <thead>\n",
       "    <tr style=\"text-align: right;\">\n",
       "      <th></th>\n",
       "      <th>student_id</th>\n",
       "      <th>name</th>\n",
       "      <th>age</th>\n",
       "      <th>quiz_score</th>\n",
       "      <th>city</th>\n",
       "      <th>Enrollment_Date</th>\n",
       "      <th>Last_Login</th>\n",
       "      <th>course_enrolled</th>\n",
       "      <th>weekly_progress(%)</th>\n",
       "      <th>final_grade</th>\n",
       "      <th>...</th>\n",
       "      <th>days_since_login</th>\n",
       "      <th>high_performer</th>\n",
       "      <th>efficiency_score</th>\n",
       "      <th>consistency_score</th>\n",
       "      <th>engagement_score</th>\n",
       "      <th>improvement_rate</th>\n",
       "      <th>underrated_flag</th>\n",
       "      <th>dropout_risk</th>\n",
       "      <th>grade_category</th>\n",
       "      <th>inactive_days</th>\n",
       "    </tr>\n",
       "  </thead>\n",
       "  <tbody>\n",
       "    <tr>\n",
       "      <th>0</th>\n",
       "      <td>10000</td>\n",
       "      <td>Riya Chaudry</td>\n",
       "      <td>11</td>\n",
       "      <td>63</td>\n",
       "      <td>Bangalore</td>\n",
       "      <td>2025-05-01</td>\n",
       "      <td>2025-05-17</td>\n",
       "      <td>Probability</td>\n",
       "      <td>91.92</td>\n",
       "      <td>79.2</td>\n",
       "      <td>...</td>\n",
       "      <td>-32</td>\n",
       "      <td>0</td>\n",
       "      <td>1.193766</td>\n",
       "      <td>-2.965161</td>\n",
       "      <td>78.768</td>\n",
       "      <td>16.2</td>\n",
       "      <td>0</td>\n",
       "      <td>0</td>\n",
       "      <td>Excellent</td>\n",
       "      <td>16</td>\n",
       "    </tr>\n",
       "    <tr>\n",
       "      <th>1</th>\n",
       "      <td>10001</td>\n",
       "      <td>Vaibhav Bajaj</td>\n",
       "      <td>15</td>\n",
       "      <td>91</td>\n",
       "      <td>Mumbai</td>\n",
       "      <td>2025-03-19</td>\n",
       "      <td>2025-04-03</td>\n",
       "      <td>Probability</td>\n",
       "      <td>8.90</td>\n",
       "      <td>68.5</td>\n",
       "      <td>...</td>\n",
       "      <td>12</td>\n",
       "      <td>1</td>\n",
       "      <td>0.100000</td>\n",
       "      <td>0.684615</td>\n",
       "      <td>57.560</td>\n",
       "      <td>-22.5</td>\n",
       "      <td>0</td>\n",
       "      <td>0</td>\n",
       "      <td>Very Good</td>\n",
       "      <td>15</td>\n",
       "    </tr>\n",
       "    <tr>\n",
       "      <th>2</th>\n",
       "      <td>10002</td>\n",
       "      <td>Anya Khurana</td>\n",
       "      <td>5</td>\n",
       "      <td>39</td>\n",
       "      <td>Hyderabad</td>\n",
       "      <td>2025-02-22</td>\n",
       "      <td>2025-03-16</td>\n",
       "      <td>Algebra Basics</td>\n",
       "      <td>39.83</td>\n",
       "      <td>62.7</td>\n",
       "      <td>...</td>\n",
       "      <td>30</td>\n",
       "      <td>0</td>\n",
       "      <td>0.100000</td>\n",
       "      <td>1.284839</td>\n",
       "      <td>147.122</td>\n",
       "      <td>23.7</td>\n",
       "      <td>0</td>\n",
       "      <td>0</td>\n",
       "      <td>Needs Improvement</td>\n",
       "      <td>22</td>\n",
       "    </tr>\n",
       "    <tr>\n",
       "      <th>3</th>\n",
       "      <td>10003</td>\n",
       "      <td>Anvi Divan</td>\n",
       "      <td>11</td>\n",
       "      <td>97</td>\n",
       "      <td>Mumbai</td>\n",
       "      <td>2025-05-07</td>\n",
       "      <td>2025-06-01</td>\n",
       "      <td>Math Puzzles</td>\n",
       "      <td>39.50</td>\n",
       "      <td>58.4</td>\n",
       "      <td>...</td>\n",
       "      <td>-47</td>\n",
       "      <td>1</td>\n",
       "      <td>0.260365</td>\n",
       "      <td>-0.858696</td>\n",
       "      <td>90.413</td>\n",
       "      <td>-38.6</td>\n",
       "      <td>0</td>\n",
       "      <td>0</td>\n",
       "      <td>Very Good</td>\n",
       "      <td>25</td>\n",
       "    </tr>\n",
       "    <tr>\n",
       "      <th>4</th>\n",
       "      <td>10004</td>\n",
       "      <td>Prisha Maharaj</td>\n",
       "      <td>11</td>\n",
       "      <td>71</td>\n",
       "      <td>Pune</td>\n",
       "      <td>2025-01-26</td>\n",
       "      <td>2025-01-29</td>\n",
       "      <td>Calculus Intro</td>\n",
       "      <td>18.63</td>\n",
       "      <td>67.8</td>\n",
       "      <td>...</td>\n",
       "      <td>76</td>\n",
       "      <td>0</td>\n",
       "      <td>3.105000</td>\n",
       "      <td>0.241948</td>\n",
       "      <td>30.552</td>\n",
       "      <td>-3.2</td>\n",
       "      <td>0</td>\n",
       "      <td>0</td>\n",
       "      <td>Needs Improvement</td>\n",
       "      <td>3</td>\n",
       "    </tr>\n",
       "  </tbody>\n",
       "</table>\n",
       "<p>5 rows × 27 columns</p>\n",
       "</div>"
      ],
      "text/plain": [
       "   student_id            name  age  quiz_score       city Enrollment_Date  \\\n",
       "0       10000    Riya Chaudry   11          63  Bangalore      2025-05-01   \n",
       "1       10001   Vaibhav Bajaj   15          91     Mumbai      2025-03-19   \n",
       "2       10002    Anya Khurana    5          39  Hyderabad      2025-02-22   \n",
       "3       10003      Anvi Divan   11          97     Mumbai      2025-05-07   \n",
       "4       10004  Prisha Maharaj   11          71       Pune      2025-01-26   \n",
       "\n",
       "  Last_Login course_enrolled  weekly_progress(%)  final_grade  ...  \\\n",
       "0 2025-05-17     Probability               91.92         79.2  ...   \n",
       "1 2025-04-03     Probability                8.90         68.5  ...   \n",
       "2 2025-03-16  Algebra Basics               39.83         62.7  ...   \n",
       "3 2025-06-01    Math Puzzles               39.50         58.4  ...   \n",
       "4 2025-01-29  Calculus Intro               18.63         67.8  ...   \n",
       "\n",
       "  days_since_login  high_performer efficiency_score consistency_score  \\\n",
       "0              -32               0         1.193766         -2.965161   \n",
       "1               12               1         0.100000          0.684615   \n",
       "2               30               0         0.100000          1.284839   \n",
       "3              -47               1         0.260365         -0.858696   \n",
       "4               76               0         3.105000          0.241948   \n",
       "\n",
       "   engagement_score  improvement_rate  underrated_flag  dropout_risk  \\\n",
       "0            78.768              16.2                0             0   \n",
       "1            57.560             -22.5                0             0   \n",
       "2           147.122              23.7                0             0   \n",
       "3            90.413             -38.6                0             0   \n",
       "4            30.552              -3.2                0             0   \n",
       "\n",
       "      grade_category  inactive_days  \n",
       "0          Excellent             16  \n",
       "1          Very Good             15  \n",
       "2  Needs Improvement             22  \n",
       "3          Very Good             25  \n",
       "4  Needs Improvement              3  \n",
       "\n",
       "[5 rows x 27 columns]"
      ]
     },
     "execution_count": 31,
     "metadata": {},
     "output_type": "execute_result"
    }
   ],
   "source": [
    "df.head()"
   ]
  }
 ],
 "metadata": {
  "kernelspec": {
   "display_name": "Python 3 (ipykernel)",
   "language": "python",
   "name": "python3"
  },
  "language_info": {
   "codemirror_mode": {
    "name": "ipython",
    "version": 3
   },
   "file_extension": ".py",
   "mimetype": "text/x-python",
   "name": "python",
   "nbconvert_exporter": "python",
   "pygments_lexer": "ipython3",
   "version": "3.12.6"
  }
 },
 "nbformat": 4,
 "nbformat_minor": 5
}
